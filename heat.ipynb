{
 "cells": [
  {
   "cell_type": "code",
   "execution_count": 2,
   "metadata": {},
   "outputs": [],
   "source": [
    "from geopy.geocoders import Nominatim\n",
    "from geopy.exc import GeocoderTimedOut, GeocoderServiceError\n",
    "import time\n",
    "import numpy as np\n",
    "import pandas as pd\n",
    "import geopandas as gpd\n",
    "import numpy as np\n",
    "from shapely.geometry import Point\n"
   ]
  },
  {
   "cell_type": "code",
   "execution_count": 1,
   "metadata": {},
   "outputs": [
    {
     "name": "stdout",
     "output_type": "stream",
     "text": [
      "hi - heat_2\n"
     ]
    }
   ],
   "source": [
    "print('hi - heat_2')"
   ]
  },
  {
   "cell_type": "code",
   "execution_count": 3,
   "metadata": {},
   "outputs": [],
   "source": [
    "df = pd.read_csv(\"Data\\Phoenix AZ 2023-01-01 to 2024-01-01.csv\")\n",
    "\n",
    "df['datetime'] = pd.to_datetime(df['datetime'])\n",
    "df['month'] = df['datetime'].dt.month\n",
    "df['day'] = df['datetime'].dt.day"
   ]
  },
  {
   "cell_type": "code",
   "execution_count": 47,
   "metadata": {},
   "outputs": [],
   "source": [
    "def EHF (df):\n",
    "    df['3_day_avg'] = df['temp'].rolling(window=3, min_periods=1).mean().fillna(0)\n",
    "    q95 = df['temp'].quantile(0.95)\n",
    "    df['difference_from_95th'] = df['3_day_avg']-q95 \n",
    "    df['status'] = df['3_day_avg'].apply(lambda x: 'Not Heated' if x <q95 else 'Heated')\n",
    "    df['30_day_avg'] = df['temp'].rolling(window=30, min_periods=1).mean().shift(1).fillna(0)\n",
    "    df['3_day_minus_30_day_avg'] = df['3_day_avg'] - df['30_day_avg']\n",
    "    df['EHF'] = df.apply(lambda x: x['difference_from_95th']* max(1, x['3_day_minus_30_day_avg']) if x['status'] =='Heated' else 0, axis=1 )\n",
    "    return df \n"
   ]
  },
  {
   "cell_type": "code",
   "execution_count": 52,
   "metadata": {},
   "outputs": [],
   "source": [
    "ariz = EHF(df)\n",
    "ariz.loc[ariz['EHF']>0][['month','day','temp','EHF']]"
   ]
  },
  {
   "cell_type": "code",
   "execution_count": null,
   "metadata": {},
   "outputs": [],
   "source": [
    "# Iterate over the DataFrame in reverse order to update the status\n",
    "for i in range(len(df) - 1, -1, -1):\n",
    "    if df.loc[i, 'updated_status'] == 'Heated':\n",
    "        if i + 1 < len(df):\n",
    "            df.loc[i + 1, 'updated_status'] = 'Heated'\n",
    "        if i + 2 < len(df):\n",
    "            df.loc[i + 2, 'updated_status'] = 'Heated'\n",
    "\n"
   ]
  },
  {
   "cell_type": "code",
   "execution_count": null,
   "metadata": {},
   "outputs": [],
   "source": [
    "gr = df.groupby('month').agg({'temp':'mean'})\n",
    "gr.plot()"
   ]
  }
 ],
 "metadata": {
  "kernelspec": {
   "display_name": "base",
   "language": "python",
   "name": "python3"
  },
  "language_info": {
   "codemirror_mode": {
    "name": "ipython",
    "version": 3
   },
   "file_extension": ".py",
   "mimetype": "text/x-python",
   "name": "python",
   "nbconvert_exporter": "python",
   "pygments_lexer": "ipython3",
   "version": "3.9.12"
  }
 },
 "nbformat": 4,
 "nbformat_minor": 2
}
